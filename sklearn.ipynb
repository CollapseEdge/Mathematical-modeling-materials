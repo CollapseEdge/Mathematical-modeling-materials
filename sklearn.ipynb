{
 "cells": [
  {
   "attachments": {},
   "cell_type": "markdown",
   "metadata": {},
   "source": [
    "## KNN的基本实现"
   ]
  },
  {
   "attachments": {},
   "cell_type": "markdown",
   "metadata": {},
   "source": [
    "思考: 如何对电影进行分类预测\n",
    "\n",
    "假设电影分为两类:\n",
    "- 动作电影\n",
    "- 爱情电影\n",
    "\n",
    " 建模实现\n",
    "\n",
    "目标: 对电影分类预测\n",
    "\n",
    "电影的哪些属性对电影的类别有影响:\n",
    "\n",
    "[建模]首先就要考虑哪些属性对我们研究的目标是有可能有影响的\n",
    "1. 打斗镜头的次数\n",
    "2. 接吻镜头的次数"
   ]
  },
  {
   "cell_type": "code",
   "execution_count": null,
   "metadata": {},
   "outputs": [],
   "source": [
    "\n",
    "\n"
   ]
  }
 ],
 "metadata": {
  "kernelspec": {
   "display_name": "Python 3",
   "language": "python",
   "name": "python3"
  },
  "language_info": {
   "codemirror_mode": {
    "name": "ipython",
    "version": 3
   },
   "file_extension": ".py",
   "mimetype": "text/x-python",
   "name": "python",
   "nbconvert_exporter": "python",
   "pygments_lexer": "ipython3",
   "version": "3.11.3"
  },
  "orig_nbformat": 4
 },
 "nbformat": 4,
 "nbformat_minor": 2
}
