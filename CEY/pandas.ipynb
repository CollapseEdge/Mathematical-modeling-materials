{
 "cells": [
  {
   "cell_type": "code",
   "execution_count": 3,
   "metadata": {},
   "outputs": [
    {
     "name": "stdout",
     "output_type": "stream",
     "text": [
      "0     语文\n",
      "1     数学\n",
      "2     英语\n",
      "3    计算机\n",
      "dtype: object\n"
     ]
    }
   ],
   "source": [
    "#题目一：列表转Series\n",
    "import pandas as pd\n",
    "courses = [\"语文\",\"数学\",\"英语\",\"计算机\"]\n",
    "data = pd.Series(data=courses)\n",
    "\n",
    "print(data)"
   ]
  },
  {
   "cell_type": "code",
   "execution_count": 2,
   "metadata": {},
   "outputs": [
    {
     "name": "stdout",
     "output_type": "stream",
     "text": [
      "语文      80\n",
      "数学      90\n",
      "英语      88\n",
      "计算机    100\n",
      "dtype: int64\n"
     ]
    }
   ],
   "source": [
    "#题目二：字典转Series\n",
    "import pandas as pd\n",
    "grades = {\"语文\":80,\"数学\":90,\"英语\":88,\"计算机\":100}\n",
    "data = pd.Series(data=grades)\n",
    "\n",
    "print(data)"
   ]
  },
  {
   "cell_type": "code",
   "execution_count": 6,
   "metadata": {},
   "outputs": [
    {
     "name": "stdout",
     "output_type": "stream",
     "text": [
      "[80, 90, 88, 100]\n"
     ]
    }
   ],
   "source": [
    "#第三题：Series转成List\n",
    "import pandas as pd\n",
    "grades = {\"语文\":80,\"数学\":90,\"英语\":88,\"计算机\":100}\n",
    "data = pd.Series(data=grades)\n",
    "\n",
    "numbers = data.tolist()\n",
    "print(numbers)"
   ]
  },
  {
   "cell_type": "code",
   "execution_count": 8,
   "metadata": {},
   "outputs": [
    {
     "name": "stdout",
     "output_type": "stream",
     "text": [
      "     grades\n",
      "语文       80\n",
      "数学       90\n",
      "英语       88\n",
      "计算机     100\n"
     ]
    }
   ],
   "source": [
    "#第四题：将Series转成DataFrame\n",
    "import pandas as pd\n",
    "grades = {\"语文\":80,\"数学\":90,\"英语\":88,\"计算机\":100}\n",
    "data = pd.Series(data=grades)\n",
    "\n",
    "df = pd.DataFrame(data=data, columns=['grades'])\n",
    "print(df)"
   ]
  },
  {
   "cell_type": "code",
   "execution_count": 12,
   "metadata": {},
   "outputs": [
    {
     "name": "stdout",
     "output_type": "stream",
     "text": [
      "101    10.0\n",
      "102    20.0\n",
      "103    30.0\n",
      "104    40.0\n",
      "105    50.0\n",
      "106    60.0\n",
      "107    70.0\n",
      "108    80.0\n",
      "109    90.0\n",
      "dtype: float64\n"
     ]
    }
   ],
   "source": [
    "#第五题：借助numpy创建Series\n",
    "import numpy as np\n",
    "import pandas as pd\n",
    "\n",
    "s = pd.Series(\n",
    "    np.arange(10,100,10), #数值：10~90，间隔10\n",
    "    index = np.arange(101,110), #引索：101~109，间隔1\n",
    "    dtype='float' #类型：float64\n",
    ")\n",
    "print(s)"
   ]
  },
  {
   "cell_type": "code",
   "execution_count": 16,
   "metadata": {},
   "outputs": [
    {
     "name": "stdout",
     "output_type": "stream",
     "text": [
      "a    001\n",
      "b    002\n",
      "c    003\n",
      "d    004\n",
      "dtype: object\n",
      "=========\n",
      "a    1\n",
      "b    2\n",
      "c    3\n",
      "d    4\n",
      "dtype: int64\n"
     ]
    }
   ],
   "source": [
    "#第六题：转换Series的数据类型\n",
    "import pandas as pd\n",
    "s = pd.Series(\n",
    "    data=['001','002','003','004'],\n",
    "    index=list(\"abcd\")\n",
    ")\n",
    "print(s)#转换前\n",
    "print('=========')\n",
    "s = s.astype(int)#方法一\n",
    "s = s.map(int)#方法二   效果一样两种方法\n",
    "print(s)#转换后"
   ]
  },
  {
   "cell_type": "code",
   "execution_count": 4,
   "metadata": {},
   "outputs": [
    {
     "name": "stdout",
     "output_type": "stream",
     "text": [
      "语文      80\n",
      "数学      90\n",
      "英语      88\n",
      "计算机    100\n",
      "物理      88\n",
      "化学      95\n",
      "dtype: int64\n"
     ]
    },
    {
     "name": "stderr",
     "output_type": "stream",
     "text": [
      "C:\\Users\\che\\AppData\\Local\\Temp\\ipykernel_8896\\1683647994.py:10: FutureWarning: The series.append method is deprecated and will be removed from pandas in a future version. Use pandas.concat instead.\n",
      "  data = data.append(var1)\n"
     ]
    }
   ],
   "source": [
    "#第七题：给Series添加新的元素\n",
    "import pandas as pd\n",
    "\n",
    "grades = {\"语文\":80,\"数学\":90,\"英语\":88,\"计算机\":100}\n",
    "data = pd.Series(data=grades)\n",
    "var1 = pd.Series({\n",
    "    \"物理\": 88,\n",
    "    \"化学\": 95\n",
    "})\n",
    "data = data.append(var1)\n",
    "print(data)\n",
    "\n",
    "#有提醒，pandas在高版本中移除了append的用法"
   ]
  },
  {
   "cell_type": "code",
   "execution_count": 5,
   "metadata": {},
   "outputs": [
    {
     "name": "stdout",
     "output_type": "stream",
     "text": [
      "  course  grade\n",
      "0     语文     80\n",
      "1     数学     90\n",
      "2     英语     85\n",
      "3    计算机    100\n"
     ]
    }
   ],
   "source": [
    "#第八题：用reset index将Series转换成dataframe\n",
    "import pandas as pd\n",
    "grades = {\"语文\":80,\"数学\":90,\"英语\":85,\"计算机\":100}\n",
    "data = pd.Series(data=grades)\n",
    "\n",
    "df = data.reset_index()\n",
    "df.columns = [\"course\",\"grade\"]\n",
    "print(df)"
   ]
  },
  {
   "cell_type": "code",
   "execution_count": 6,
   "metadata": {},
   "outputs": [
    {
     "name": "stdout",
     "output_type": "stream",
     "text": [
      "   姓名 性别  年龄\n",
      "0  小张  男  18\n",
      "1  小王  女  19\n",
      "2  小李  男  20\n",
      "3  小赵  女  18\n"
     ]
    }
   ],
   "source": [
    "#第九题：使用字典创建DataFrame\n",
    "import pandas as pd\n",
    "\n",
    "df = pd.DataFrame(\n",
    "    {\n",
    "        \"姓名\":[\"小张\",\"小王\",\"小李\",\"小赵\"],\n",
    "        \"性别\":[\"男\",\"女\",\"男\",\"女\"],\n",
    "        \"年龄\":[\"18\",\"19\",\"20\",\"18\"]\n",
    "    }\n",
    ")\n",
    "print(df)"
   ]
  },
  {
   "cell_type": "code",
   "execution_count": 12,
   "metadata": {},
   "outputs": [
    {
     "name": "stdout",
     "output_type": "stream",
     "text": [
      "   姓名 性别  年龄\n",
      "0  小张  男  18\n",
      "1  小王  女  19\n",
      "2  小李  男  20\n",
      "3  小赵  女  18\n",
      "==================\n",
      "   性别  年龄\n",
      "姓名       \n",
      "小张  男  18\n",
      "小王  女  19\n",
      "小李  男  20\n",
      "小赵  女  18\n"
     ]
    }
   ],
   "source": [
    "#第十题：给DataFrame设置引列\n",
    "import pandas as pd\n",
    "\n",
    "df = pd.DataFrame(\n",
    "    {\n",
    "        \"姓名\":[\"小张\",\"小王\",\"小李\",\"小赵\"],\n",
    "        \"性别\":[\"男\",\"女\",\"男\",\"女\"],\n",
    "        \"年龄\":[\"18\",\"19\",\"20\",\"18\"]\n",
    "    }\n",
    ")\n",
    "df1 = df.set_index(\"姓名\", inplace=False)#inplace代表是否替换原来的dataFrame\n",
    "#如果为False，则返回一个新的DataFrame\n",
    "print(df)\n",
    "print(\"==================\")\n",
    "print(df1)"
   ]
  },
  {
   "cell_type": "code",
   "execution_count": 15,
   "metadata": {},
   "outputs": [
    {
     "name": "stdout",
     "output_type": "stream",
     "text": [
      "DatetimeIndex(['2021-10-01', '2021-10-02', '2021-10-03', '2021-10-04',\n",
      "               '2021-10-05', '2021-10-06', '2021-10-07', '2021-10-08',\n",
      "               '2021-10-09', '2021-10-10', '2021-10-11', '2021-10-12',\n",
      "               '2021-10-13', '2021-10-14', '2021-10-15', '2021-10-16',\n",
      "               '2021-10-17', '2021-10-18', '2021-10-19', '2021-10-20',\n",
      "               '2021-10-21', '2021-10-22', '2021-10-23', '2021-10-24',\n",
      "               '2021-10-25', '2021-10-26', '2021-10-27', '2021-10-28',\n",
      "               '2021-10-29', '2021-10-30', '2021-10-31'],\n",
      "              dtype='datetime64[ns]', freq='D')\n"
     ]
    }
   ],
   "source": [
    "#第十一题：生成一个月份所有日期\n",
    "import pandas as pd\n",
    "\n",
    "#date_range = pd.date_range(start='2021-10-01',end='2021-10-31')\n",
    "date_range = pd.date_range(start='2021-10-01',periods=31)\n",
    "print(date_range)"
   ]
  },
  {
   "cell_type": "code",
   "execution_count": 17,
   "metadata": {},
   "outputs": [
    {
     "name": "stdout",
     "output_type": "stream",
     "text": [
      "DatetimeIndex(['2021-01-04', '2021-01-11', '2021-01-18', '2021-01-25',\n",
      "               '2021-02-01', '2021-02-08', '2021-02-15', '2021-02-22',\n",
      "               '2021-03-01', '2021-03-08', '2021-03-15', '2021-03-22',\n",
      "               '2021-03-29', '2021-04-05', '2021-04-12', '2021-04-19',\n",
      "               '2021-04-26', '2021-05-03', '2021-05-10', '2021-05-17',\n",
      "               '2021-05-24', '2021-05-31', '2021-06-07', '2021-06-14',\n",
      "               '2021-06-21', '2021-06-28', '2021-07-05', '2021-07-12',\n",
      "               '2021-07-19', '2021-07-26', '2021-08-02', '2021-08-09',\n",
      "               '2021-08-16', '2021-08-23', '2021-08-30', '2021-09-06',\n",
      "               '2021-09-13', '2021-09-20', '2021-09-27', '2021-10-04',\n",
      "               '2021-10-11', '2021-10-18', '2021-10-25', '2021-11-01',\n",
      "               '2021-11-08', '2021-11-15', '2021-11-22', '2021-11-29',\n",
      "               '2021-12-06', '2021-12-13', '2021-12-20', '2021-12-27'],\n",
      "              dtype='datetime64[ns]', freq='W-MON')\n"
     ]
    }
   ],
   "source": [
    "#第十二题：生成一年的所有周一的日期\n",
    "import pandas as pd\n",
    "\n",
    "date_range = pd.date_range(start='2021-01-01',end='2021-12-31',freq='W-MON')\n",
    "#date_range = pd.date_range(start='2021-01-01',periods = 52,freq='W-MON')\n",
    "print(date_range)"
   ]
  },
  {
   "cell_type": "code",
   "execution_count": 20,
   "metadata": {},
   "outputs": [
    {
     "name": "stdout",
     "output_type": "stream",
     "text": [
      "DatetimeIndex(['2021-10-01 00:00:00', '2021-10-01 01:00:00',\n",
      "               '2021-10-01 02:00:00', '2021-10-01 03:00:00',\n",
      "               '2021-10-01 04:00:00', '2021-10-01 05:00:00',\n",
      "               '2021-10-01 06:00:00', '2021-10-01 07:00:00',\n",
      "               '2021-10-01 08:00:00', '2021-10-01 09:00:00',\n",
      "               '2021-10-01 10:00:00', '2021-10-01 11:00:00',\n",
      "               '2021-10-01 12:00:00', '2021-10-01 13:00:00',\n",
      "               '2021-10-01 14:00:00', '2021-10-01 15:00:00',\n",
      "               '2021-10-01 16:00:00', '2021-10-01 17:00:00',\n",
      "               '2021-10-01 18:00:00', '2021-10-01 19:00:00',\n",
      "               '2021-10-01 20:00:00', '2021-10-01 21:00:00',\n",
      "               '2021-10-01 22:00:00', '2021-10-01 23:00:00'],\n",
      "              dtype='datetime64[ns]', freq='H')\n"
     ]
    }
   ],
   "source": [
    "#第十三题：生成一天中所有的小时\n",
    "import pandas as pd\n",
    "\n",
    "date_range = pd.date_range(start='2021-10-01',periods=24,freq='H')\n",
    "#date_range = pd.date_range(start='2021-10-01',end='2021-10-02',freq='H',closed='left')\n",
    "print(date_range)"
   ]
  },
  {
   "cell_type": "code",
   "execution_count": 22,
   "metadata": {},
   "outputs": [
    {
     "name": "stdout",
     "output_type": "stream",
     "text": [
      "          day  day_of_year\n",
      "0  2021-10-01          274\n",
      "1  2021-10-02          275\n",
      "2  2021-10-03          276\n",
      "3  2021-10-04          277\n",
      "4  2021-10-05          278\n",
      "5  2021-10-06          279\n",
      "6  2021-10-07          280\n",
      "7  2021-10-08          281\n",
      "8  2021-10-09          282\n",
      "9  2021-10-10          283\n",
      "10 2021-10-11          284\n",
      "11 2021-10-12          285\n",
      "12 2021-10-13          286\n",
      "13 2021-10-14          287\n",
      "14 2021-10-15          288\n",
      "15 2021-10-16          289\n",
      "16 2021-10-17          290\n",
      "17 2021-10-18          291\n",
      "18 2021-10-19          292\n",
      "19 2021-10-20          293\n",
      "20 2021-10-21          294\n",
      "21 2021-10-22          295\n",
      "22 2021-10-23          296\n",
      "23 2021-10-24          297\n",
      "24 2021-10-25          298\n",
      "25 2021-10-26          299\n",
      "26 2021-10-27          300\n",
      "27 2021-10-28          301\n",
      "28 2021-10-29          302\n",
      "29 2021-10-30          303\n",
      "30 2021-10-31          304\n"
     ]
    }
   ],
   "source": [
    "#第十四题：生成日期DataFrame\n",
    "import pandas as pd\n",
    "\n",
    "date_range = pd.date_range(start='2021-10-01',periods=31)\n",
    "df = pd.DataFrame(data=date_range,columns=['day'])\n",
    "df['day_of_year'] = df['day'].dt.dayofyear\n",
    "print(df)"
   ]
  },
  {
   "cell_type": "code",
   "execution_count": 25,
   "metadata": {},
   "outputs": [
    {
     "name": "stdout",
     "output_type": "stream",
     "text": [
      "                norm   uniform  binomial\n",
      "2021-01-01 -1.433774  0.288378         1\n",
      "2021-01-02  1.673276  0.062212         1\n",
      "2021-01-03  0.322535  0.891935         1\n",
      "2021-01-04 -0.136700  0.733938         0\n",
      "2021-01-05 -0.595695  0.190245         0\n",
      "...              ...       ...       ...\n",
      "2023-09-23 -1.193052  0.439016         1\n",
      "2023-09-24 -0.589417  0.655408         0\n",
      "2023-09-25  1.447067  0.310311         0\n",
      "2023-09-26 -0.878068  0.276753         1\n",
      "2023-09-27  1.114693  0.859791         0\n",
      "\n",
      "[1000 rows x 3 columns]\n"
     ]
    }
   ],
   "source": [
    "#第十五题：生成日期和随机分布DataFrame\n",
    "import pandas as pd\n",
    "import numpy as np\n",
    "date_range = pd.date_range(start='2021-01-01',periods=1000)\n",
    "data = {\n",
    "    'norm':np.random.normal(loc=0,scale=1,size=1000),\n",
    "    'uniform':np.random.uniform(low=0,high=1,size=1000),\n",
    "    'binomial':np.random.binomial(n=1,p=0.2,size=1000)\n",
    "}\n",
    "df = pd.DataFrame(data = data,index = date_range)\n",
    "print(df)"
   ]
  },
  {
   "cell_type": "code",
   "execution_count": 27,
   "metadata": {},
   "outputs": [
    {
     "name": "stdout",
     "output_type": "stream",
     "text": [
      "                norm   uniform  binomial\n",
      "2021-01-01  1.603311  0.055899         0\n",
      "2021-01-02  0.424410  0.956648         0\n",
      "2021-01-03 -0.199736  0.585355         0\n",
      "2021-01-04  2.257907  0.976390         0\n",
      "2021-01-05  0.522889  0.580181         0\n",
      "2021-01-06 -0.847110  0.888057         0\n",
      "2021-01-07  0.260359  0.552357         0\n",
      "2021-01-08  3.085272  0.074320         0\n",
      "2021-01-09  1.080351  0.977820         0\n",
      "2021-01-10 -0.799776  0.727815         0\n",
      "\n",
      "                norm   uniform  binomial\n",
      "2023-09-23  1.311039  0.405742         1\n",
      "2023-09-24  0.656491  0.687519         0\n",
      "2023-09-25  0.592035  0.359081         0\n",
      "2023-09-26 -0.049891  0.155706         0\n",
      "2023-09-27  1.726711  0.379733         0\n"
     ]
    }
   ],
   "source": [
    "#第十六题：打印DataFrame的前后5行\n",
    "import pandas as pd\n",
    "import numpy as np\n",
    "date_range = pd.date_range(start='2021-01-01',periods=1000)\n",
    "data = {\n",
    "    'norm':np.random.normal(loc=0,scale=1,size=1000),\n",
    "    'uniform':np.random.uniform(low=0,high=1,size=1000),\n",
    "    'binomial':np.random.binomial(n=1,p=0.2,size=1000)\n",
    "}\n",
    "df = pd.DataFrame(data = data,index = date_range)\n",
    "print(df.head(10))\n",
    "print()\n",
    "print(df.tail(5))"
   ]
  },
  {
   "cell_type": "code",
   "execution_count": 28,
   "metadata": {},
   "outputs": [
    {
     "name": "stdout",
     "output_type": "stream",
     "text": [
      "<class 'pandas.core.frame.DataFrame'>\n",
      "DatetimeIndex: 1000 entries, 2021-01-01 to 2023-09-27\n",
      "Freq: D\n",
      "Data columns (total 3 columns):\n",
      " #   Column    Non-Null Count  Dtype  \n",
      "---  ------    --------------  -----  \n",
      " 0   norm      1000 non-null   float64\n",
      " 1   uniform   1000 non-null   float64\n",
      " 2   binomial  1000 non-null   int32  \n",
      "dtypes: float64(2), int32(1)\n",
      "memory usage: 27.3 KB\n",
      "None\n",
      "\n",
      "              norm      uniform     binomial\n",
      "count  1000.000000  1000.000000  1000.000000\n",
      "mean     -0.029194     0.512459     0.212000\n",
      "std       1.013895     0.287526     0.408929\n",
      "min      -3.555635     0.000680     0.000000\n",
      "25%      -0.698068     0.282369     0.000000\n",
      "50%      -0.019325     0.512739     0.000000\n",
      "75%       0.654403     0.760835     0.000000\n",
      "max       2.834648     0.999539     1.000000\n"
     ]
    }
   ],
   "source": [
    "#第十七题: 查看DataFrame的信息和基本数据统计\n",
    "import pandas as pd\n",
    "import numpy as np\n",
    "\n",
    "df = pd.DataFrame(\n",
    "    data = {\n",
    "    'norm':np.random.normal(loc=0,scale=1,size=1000),\n",
    "    'uniform':np.random.uniform(low=0,high=1,size=1000),\n",
    "    'binomial':np.random.binomial(n=1,p=0.2,size=1000)\n",
    "},\n",
    "index=pd.date_range(start='2021-01-01',periods=1000)\n",
    ")\n",
    "print(df.info())\n",
    "print()\n",
    "print(df.describe())"
   ]
  },
  {
   "cell_type": "code",
   "execution_count": 30,
   "metadata": {},
   "outputs": [
    {
     "name": "stdout",
     "output_type": "stream",
     "text": [
      "0    782\n",
      "1    218\n",
      "Name: binomial, dtype: int64\n"
     ]
    }
   ],
   "source": [
    "#第十八题:统计数据列的值出现次数\n",
    "import pandas as pd\n",
    "import numpy as np\n",
    "\n",
    "df = pd.DataFrame(\n",
    "    data = {\n",
    "    'norm':np.random.normal(loc=0,scale=1,size=1000),\n",
    "    'uniform':np.random.uniform(low=0,high=1,size=1000),\n",
    "    'binomial':np.random.binomial(n=1,p=0.2,size=1000)\n",
    "},\n",
    "index=pd.date_range(start='2021-01-01',periods=1000)\n",
    ")\n",
    "print(df[\"binomial\"].value_counts())"
   ]
  },
  {
   "cell_type": "code",
   "execution_count": 36,
   "metadata": {},
   "outputs": [],
   "source": [
    "#第十九题:df前N行存入csv文件\n",
    "import pandas as pd\n",
    "import numpy as np\n",
    "\n",
    "df = pd.DataFrame(\n",
    "    data = {\n",
    "    'norm':np.random.normal(loc=0,scale=1,size=1000),\n",
    "    'uniform':np.random.uniform(low=0,high=1,size=1000),\n",
    "    'binomial':np.random.binomial(n=1,p=0.2,size=1000)\n",
    "},\n",
    "index=pd.date_range(start='2021-01-01',periods=1000)\n",
    ")\n",
    "df.to_csv(\"testFile/pandas/pandas_19.csv\")"
   ]
  },
  {
   "cell_type": "code",
   "execution_count": 38,
   "metadata": {},
   "outputs": [
    {
     "name": "stdout",
     "output_type": "stream",
     "text": [
      "<class 'pandas.core.frame.DataFrame'>\n",
      "Index: 1000 entries, 2021-01-01 to 2023-09-27\n",
      "Data columns (total 3 columns):\n",
      " #   Column    Non-Null Count  Dtype  \n",
      "---  ------    --------------  -----  \n",
      " 0   norm      1000 non-null   float64\n",
      " 1   uniform   1000 non-null   float64\n",
      " 2   binomial  1000 non-null   int64  \n",
      "dtypes: float64(2), int64(1)\n",
      "memory usage: 31.2+ KB\n",
      "None\n",
      "                norm   uniform  binomial\n",
      "2021-01-01  1.188699  0.609764         0\n",
      "2021-01-02 -0.080210  0.286604         0\n",
      "2021-01-03  1.077836  0.230558         0\n",
      "2021-01-04 -0.684950  0.674477         0\n",
      "2021-01-05 -1.194218  0.278311         0\n"
     ]
    }
   ],
   "source": [
    "#第二十题:加载csv文件到df\n",
    "import pandas as pd\n",
    "df = pd.read_csv(\"testFile\\pandas\\pandas_19.csv\",index_col=0)\n",
    "print(df.info())\n",
    "print(df.head())"
   ]
  },
  {
   "attachments": {},
   "cell_type": "markdown",
   "metadata": {},
   "source": [
    "**从这里往下的内容换了内容,原课程的数据集下载要收费**"
   ]
  },
  {
   "cell_type": "code",
   "execution_count": null,
   "metadata": {},
   "outputs": [],
   "source": [
    "\n"
   ]
  }
 ],
 "metadata": {
  "kernelspec": {
   "display_name": "machinelearning",
   "language": "python",
   "name": "python3"
  },
  "language_info": {
   "codemirror_mode": {
    "name": "ipython",
    "version": 3
   },
   "file_extension": ".py",
   "mimetype": "text/x-python",
   "name": "python",
   "nbconvert_exporter": "python",
   "pygments_lexer": "ipython3",
   "version": "3.11.3"
  },
  "orig_nbformat": 4
 },
 "nbformat": 4,
 "nbformat_minor": 2
}
