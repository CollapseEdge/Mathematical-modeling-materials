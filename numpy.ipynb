{
 "cells": [
  {
   "attachments": {},
   "cell_type": "markdown",
   "metadata": {},
   "source": [
    "# NumPy学习笔记"
   ]
  },
  {
   "attachments": {},
   "cell_type": "markdown",
   "metadata": {},
   "source": [
    "学习素材：\n",
    "- https://youtube.com/playlist?list=PLliocbKHJNwvnWLh4ImEQlwlYMT39scyC"
   ]
  },
  {
   "attachments": {},
   "cell_type": "markdown",
   "metadata": {},
   "source": [
    "## 安装numpy"
   ]
  },
  {
   "attachments": {},
   "cell_type": "markdown",
   "metadata": {},
   "source": [
    "```pip install numpy```"
   ]
  },
  {
   "cell_type": "code",
   "execution_count": 1,
   "metadata": {},
   "outputs": [
    {
     "name": "stdout",
     "output_type": "stream",
     "text": [
      "[1 2 3 4 5]\n"
     ]
    }
   ],
   "source": [
    "import numpy as np\n",
    "myarray = np.array([1,2,3,4,5])\n",
    "print(myarray)#输出[1 2 3 4 5]即为安装成功"
   ]
  },
  {
   "attachments": {},
   "cell_type": "markdown",
   "metadata": {},
   "source": [
    "## numpy的数组(ndarray)"
   ]
  },
  {
   "attachments": {},
   "cell_type": "markdown",
   "metadata": {},
   "source": [
    "```ndarray.ndim #数组维数\n",
    "ndarray.shaper #数组维数(元组tuple类型:行列形式)\n",
    "ndarray.size #数组元素个数\n",
    "ndarray.dtype #数组元素类型\n",
    "ndarray.itemsize #数组单个元素占用内存字节\n",
    "```"
   ]
  },
  {
   "cell_type": "code",
   "execution_count": 17,
   "metadata": {},
   "outputs": [
    {
     "name": "stdout",
     "output_type": "stream",
     "text": [
      "[ 1  2  3  5  8 13]\n",
      "数组维数: 1\n",
      "数组维数(元组tuple类型:行列形式): (6,)\n",
      "数组元素个数: 6\n",
      "数组元素类型: int32\n",
      "数组单个元素占用内存字节: 4\n"
     ]
    }
   ],
   "source": [
    "import numpy as np\n",
    "\n",
    "myarray = [1,2,3,5,8,13]\n",
    "nparray = np.array(myarray)\n",
    "print(nparray)\n",
    "print('数组维数:',nparray.ndim)\n",
    "print('数组维数(元组tuple类型:行列形式):',nparray.shape)\n",
    "print('数组元素个数:',nparray.size)\n",
    "print('数组元素类型:',nparray.dtype)\n",
    "print('数组单个元素占用内存字节:',nparray.itemsize)\n"
   ]
  },
  {
   "cell_type": "code",
   "execution_count": 18,
   "metadata": {},
   "outputs": [
    {
     "name": "stdout",
     "output_type": "stream",
     "text": [
      "[[ 1  2  3]\n",
      " [ 5  8 13]]\n"
     ]
    }
   ],
   "source": [
    "nparray = np.array(myarray).reshape(2,3)#一维数组变二维\n",
    "print(nparray)"
   ]
  },
  {
   "attachments": {},
   "cell_type": "markdown",
   "metadata": {},
   "source": [
    "## 用numpy创建数组"
   ]
  },
  {
   "cell_type": "code",
   "execution_count": 21,
   "metadata": {},
   "outputs": [
    {
     "name": "stdout",
     "output_type": "stream",
     "text": [
      "[ 1  2  3  5  8 13]\n",
      "int32\n"
     ]
    }
   ],
   "source": [
    "# 整数数组\n",
    "myarray = [1, 2, 3, 5, 8, 13]\n",
    "nparray = np.array(myarray)\n",
    "print(nparray)\n",
    "print(nparray.dtype)"
   ]
  },
  {
   "cell_type": "code",
   "execution_count": 20,
   "metadata": {},
   "outputs": [
    {
     "name": "stdout",
     "output_type": "stream",
     "text": [
      "[ 1.1  2.1  3.1  5.1  8.1 13.1 20. ]\n",
      "float64\n"
     ]
    }
   ],
   "source": [
    "# 浮点数数组\n",
    "myarray = [1.1, 2.1, 3.1, 5.1, 8.1, 13.1, 20.]\n",
    "nparray = np.array(myarray)\n",
    "print(nparray)\n",
    "print(nparray.dtype)"
   ]
  },
  {
   "cell_type": "code",
   "execution_count": 22,
   "metadata": {},
   "outputs": [
    {
     "name": "stdout",
     "output_type": "stream",
     "text": [
      "[[ 1  2  3]\n",
      " [10 20 30]]\n",
      "(2, 3)\n"
     ]
    }
   ],
   "source": [
    "# 多维数组\n",
    "myarray = [\n",
    "    [1, 2, 3],\n",
    "    [10,20,30]\n",
    "]\n",
    "nparray = np.array(myarray)\n",
    "print(nparray)\n",
    "print(nparray.shape)"
   ]
  },
  {
   "cell_type": "code",
   "execution_count": 23,
   "metadata": {},
   "outputs": [
    {
     "name": "stdout",
     "output_type": "stream",
     "text": [
      "[0. 0. 0. 0. 0.]\n",
      "[[0. 0. 0. 0. 0. 0.]\n",
      " [0. 0. 0. 0. 0. 0.]\n",
      " [0. 0. 0. 0. 0. 0.]\n",
      " [0. 0. 0. 0. 0. 0.]]\n"
     ]
    }
   ],
   "source": [
    "# 全0数组\n",
    "nparray = np.zeros((5))\n",
    "print(nparray)\n",
    "nparray = np.zeros((4, 6))\n",
    "print(nparray)"
   ]
  },
  {
   "cell_type": "code",
   "execution_count": 24,
   "metadata": {},
   "outputs": [
    {
     "name": "stdout",
     "output_type": "stream",
     "text": [
      "[1. 1. 1. 1. 1.]\n",
      "[[1. 1. 1. 1. 1. 1.]\n",
      " [1. 1. 1. 1. 1. 1.]\n",
      " [1. 1. 1. 1. 1. 1.]\n",
      " [1. 1. 1. 1. 1. 1.]]\n"
     ]
    }
   ],
   "source": [
    "# 全1数组\n",
    "nparray = np.ones((5))\n",
    "print(nparray)\n",
    "nparray = np.ones((4, 6))\n",
    "print(nparray)"
   ]
  },
  {
   "cell_type": "code",
   "execution_count": 25,
   "metadata": {},
   "outputs": [
    {
     "name": "stdout",
     "output_type": "stream",
     "text": [
      "[[3.14 3.14 3.14 3.14 3.14]\n",
      " [3.14 3.14 3.14 3.14 3.14]\n",
      " [3.14 3.14 3.14 3.14 3.14]]\n"
     ]
    }
   ],
   "source": [
    "# 指定数值数组\n",
    "nparray = np.full((3,5), 3.14)\n",
    "print(nparray)"
   ]
  },
  {
   "cell_type": "code",
   "execution_count": 26,
   "metadata": {},
   "outputs": [
    {
     "name": "stdout",
     "output_type": "stream",
     "text": [
      "[0 1 2 3 4 5 6 7 8 9]\n",
      "[5 6 7 8 9]\n",
      "[1 3 5 7 9]\n",
      "[0 2 4 6 8]\n"
     ]
    }
   ],
   "source": [
    "# 生成顺序数组\n",
    "nparray = np.arange(10)\n",
    "print(nparray)\n",
    "nparray = np.arange(5, 10)\n",
    "print(nparray)\n",
    "nparray = np.arange(1, 10, 2)#第三个位置上是步距\n",
    "print(nparray)\n",
    "nparray = np.arange(0, 10, 2)\n",
    "print(nparray)"
   ]
  },
  {
   "cell_type": "code",
   "execution_count": 27,
   "metadata": {},
   "outputs": [
    {
     "name": "stdout",
     "output_type": "stream",
     "text": [
      "[ 0.  6. 12. 18. 24.]\n"
     ]
    }
   ],
   "source": [
    "# 线段分数组\n",
    "nparray = np.linspace(0, 24, 5)\n",
    "print(nparray)"
   ]
  },
  {
   "attachments": {},
   "cell_type": "markdown",
   "metadata": {},
   "source": [
    "## 数组计算"
   ]
  },
  {
   "cell_type": "code",
   "execution_count": 29,
   "metadata": {},
   "outputs": [
    {
     "name": "stdout",
     "output_type": "stream",
     "text": [
      "[10 20 30 40 50]\n",
      "150\n",
      "10\n",
      "50\n"
     ]
    }
   ],
   "source": [
    "import numpy as np\n",
    "\n",
    "# 数组计算\n",
    "a1 = np.array([10,20,30,40,50])\n",
    "print(a1)\n",
    "print(a1.sum())\n",
    "print(a1.min())\n",
    "print(a1.max())"
   ]
  },
  {
   "cell_type": "code",
   "execution_count": 30,
   "metadata": {},
   "outputs": [
    {
     "name": "stdout",
     "output_type": "stream",
     "text": [
      "[0 1 2 3 4]\n"
     ]
    }
   ],
   "source": [
    "a2 = np.arange(5)\n",
    "print(a2)"
   ]
  },
  {
   "cell_type": "code",
   "execution_count": 33,
   "metadata": {},
   "outputs": [
    {
     "name": "stdout",
     "output_type": "stream",
     "text": [
      "[10 21 32 43 54]\n"
     ]
    }
   ],
   "source": [
    "a3 = a1 + a2\n",
    "print(a3)\n",
    "#在两个数组长度相同的情况下数组相加，就是对应位置的元素相加"
   ]
  },
  {
   "cell_type": "code",
   "execution_count": 35,
   "metadata": {},
   "outputs": [
    {
     "name": "stdout",
     "output_type": "stream",
     "text": [
      "[10 19 28 37 46]\n",
      "[ True  True  True False False]\n"
     ]
    }
   ],
   "source": [
    "a4 = a1 - a2\n",
    "print(a4)#在两个数组长度相同的情况下数组相减，就是对应位置的元素相减\n",
    "print(a4 < 30)#判断每一项是否小于30"
   ]
  },
  {
   "cell_type": "code",
   "execution_count": 39,
   "metadata": {},
   "outputs": [
    {
     "name": "stdout",
     "output_type": "stream",
     "text": [
      "[  0  20  60 120 200]\n"
     ]
    }
   ],
   "source": [
    "a5 = a1 * a2\n",
    "print(a5)#同上"
   ]
  },
  {
   "cell_type": "code",
   "execution_count": 41,
   "metadata": {},
   "outputs": [
    {
     "name": "stdout",
     "output_type": "stream",
     "text": [
      "[[ 0  1  2  3]\n",
      " [ 4  5  6  7]\n",
      " [ 8  9 10 11]]\n",
      "(3, 4)\n"
     ]
    }
   ],
   "source": [
    "# 多维数组计算\n",
    "b = np.arange(12).reshape(3,4)#创建12个数的数组，并变成三行四列\n",
    "print(b)\n",
    "print(b.shape)"
   ]
  },
  {
   "cell_type": "code",
   "execution_count": 42,
   "metadata": {},
   "outputs": [
    {
     "name": "stdout",
     "output_type": "stream",
     "text": [
      "[12 15 18 21]\n",
      "[ 6 22 38]\n",
      "[0 1 2 3]\n",
      "[0 4 8]\n",
      "[ 8  9 10 11]\n",
      "[ 3  7 11]\n"
     ]
    }
   ],
   "source": [
    "print(b.sum(axis=0)) # 垂直列计算\n",
    "print(b.sum(axis=1)) # 水平行计算\n",
    "\n",
    "print(b.min(axis=0)) # 垂直列最小值\n",
    "print(b.min(axis=1)) # 水平行最小值\n",
    "\n",
    "print(b.max(axis=0)) # 垂直列最大值\n",
    "print(b.max(axis=1)) # 水平行最大值"
   ]
  },
  {
   "cell_type": "code",
   "execution_count": 43,
   "metadata": {},
   "outputs": [
    {
     "name": "stdout",
     "output_type": "stream",
     "text": [
      "[[5 4]\n",
      " [4 6]]\n",
      "[[5 4]\n",
      " [4 6]]\n"
     ]
    }
   ],
   "source": [
    "# *矩阵相乘*\n",
    "X = np.array([\n",
    "    [1,1,0],\n",
    "    [0,1,1]\n",
    "])\n",
    "W = np.array([\n",
    "    [2,0],\n",
    "    [3,4],\n",
    "    [1,2]\n",
    "])\n",
    "Y = np.dot(X, W)\n",
    "print(Y)\n",
    "\n",
    "# 另一种写法\n",
    "Y = X @ W\n",
    "print(Y)"
   ]
  },
  {
   "attachments": {},
   "cell_type": "markdown",
   "metadata": {},
   "source": [
    "## 随机数生成"
   ]
  },
  {
   "cell_type": "code",
   "execution_count": 44,
   "metadata": {},
   "outputs": [
    {
     "name": "stdout",
     "output_type": "stream",
     "text": [
      "0.24786127963564675\n",
      "[0.92372969 0.58254004 0.99150549 0.48530148 0.6016417 ]\n",
      "[[0.21866426 0.55102886]\n",
      " [0.70097658 0.17134693]\n",
      " [0.64576814 0.63360582]]\n"
     ]
    }
   ],
   "source": [
    "from numpy.random import *\n",
    "\n",
    "# 生成1个0-1的随机数\n",
    "print(rand())\n",
    "# 生成5个0-1的随机数数组\n",
    "print(rand(5))\n",
    "# 生成3行2列的0-1的随机数数组\n",
    "print(rand(3,2))"
   ]
  },
  {
   "cell_type": "code",
   "execution_count": 45,
   "metadata": {},
   "outputs": [
    {
     "name": "stdout",
     "output_type": "stream",
     "text": [
      "90\n",
      "16\n",
      "[17 10 16 14 11]\n",
      "[[13 18 14]\n",
      " [15 14 12]]\n"
     ]
    }
   ],
   "source": [
    "# 生成1个0-99的随机数\n",
    "print(randint(100))\n",
    "# 生成1个10-19的随机数\n",
    "print(randint(10,20))\n",
    "# 生成5个10-19的随机数数组\n",
    "print(randint(10,20,5))\n",
    "# 生成2行3列的10-19的随机数数组\n",
    "print(randint(10,20,(2,3)))"
   ]
  },
  {
   "cell_type": "code",
   "execution_count": 46,
   "metadata": {},
   "outputs": [
    {
     "name": "stdout",
     "output_type": "stream",
     "text": [
      "antetokounmpo\n",
      "['McGee' 'curry' 'McGee']\n",
      "['McGee' 'curry' 'harden']\n"
     ]
    }
   ],
   "source": [
    "# 随机选择数组元素\n",
    "players = [\"curry\", \"harden\", \"lebron\", \"durant\", \"antetokounmpo\", \"westbrook\", \"McGee\"]\n",
    "# 随机抽出一个球员\n",
    "print(choice(players))\n",
    "# 随机抽出3个球员(有重复)\n",
    "print(choice(players, 3))\n",
    "# 随机抽出3个球员(无重复)\n",
    "print(choice(players, 3, replace=False))"
   ]
  },
  {
   "attachments": {},
   "cell_type": "markdown",
   "metadata": {},
   "source": [
    "## 正态分布"
   ]
  },
  {
   "cell_type": "code",
   "execution_count": 1,
   "metadata": {},
   "outputs": [
    {
     "name": "stdout",
     "output_type": "stream",
     "text": [
      "-1.124801488972265\n",
      "[-0.81134082  1.48296607 -1.08454902  1.99649651 -0.05065675]\n",
      "[[-0.09833759 -0.18967687 -2.85229013  0.61897234 -0.13233215]\n",
      " [ 0.31078423 -1.15250028 -0.21431202 -1.53839308  0.64490485]\n",
      " [-0.24269916  0.91558492  0.40020829  0.0251103  -0.44236685]\n",
      " [-0.59703538  1.79816549 -1.07568163 -1.1097309  -0.39961542]\n",
      " [-0.25909896 -0.83716563  1.70596584 -0.27071192  0.04372276]]\n"
     ]
    }
   ],
   "source": [
    "from numpy.random import *\n",
    "\n",
    "# 标准正态分布(平均:0, 偏差:1)\n",
    "print(randn())\n",
    "# 生成5个元素的正态数组\n",
    "print(randn(5))\n",
    "# 生成5行5列的正态数组\n",
    "print(randn(5,5))"
   ]
  },
  {
   "cell_type": "code",
   "execution_count": 2,
   "metadata": {},
   "outputs": [
    {
     "data": {
      "image/png": "[encoded data removed]",
      "text/plain": [
       "<Figure size 640x480 with 1 Axes>"
      ]
     },
     "metadata": {},
     "output_type": "display_data"
    }
   ],
   "source": [
    "#图形化显示\n",
    "from numpy.random import *\n",
    "import matplotlib.pyplot as plt\n",
    "\n",
    "# 生成1万个标准正态分布数组\n",
    "R = randn(10000)\n",
    "# 图形化显示(直方图)\n",
    "plt.hist(R, bins=100)\n",
    "plt.show()"
   ]
  },
  {
   "attachments": {},
   "cell_type": "markdown",
   "metadata": {},
   "source": [
    "## 访问数组"
   ]
  },
  {
   "cell_type": "code",
   "execution_count": 3,
   "metadata": {},
   "outputs": [
    {
     "name": "stdout",
     "output_type": "stream",
     "text": [
      "[ 1  2  3  5  8 13 21]\n",
      "1\n",
      "2\n",
      "21\n",
      "13\n",
      "7\n",
      "[100   2   3   5   8  13  21]\n",
      "int32\n",
      "4\n",
      "28\n"
     ]
    }
   ],
   "source": [
    "import numpy as np\n",
    "\n",
    "# 1维数组\n",
    "a = np.array([1,2,3,5,8,13,21])\n",
    "print(a)\n",
    "print(a[0])\n",
    "print(a[1])\n",
    "print(a[-1])\n",
    "print(a[-2])\n",
    "print(len(a))\n",
    "a[0] = 100\n",
    "print(a)\n",
    "print(a.dtype) # 元素类型\n",
    "print(a.itemsize) # 元素字节数\n",
    "print(a.nbytes) # 数组整体占用字节数"
   ]
  },
  {
   "cell_type": "code",
   "execution_count": 4,
   "metadata": {},
   "outputs": [
    {
     "name": "stdout",
     "output_type": "stream",
     "text": [
      "[[ 0  1  2  3  4  5]\n",
      " [ 6  7  8  9 10 11]\n",
      " [12 13 14 15 16 17]\n",
      " [18 19 20 21 22 23]]\n",
      "[0 1 2 3 4 5]\n",
      "[ 6  7  8  9 10 11]\n",
      "4\n",
      "0\n",
      "2\n",
      "6\n",
      "8\n",
      "[[100   1   2   3   4   5]\n",
      " [  6   7   8   9  10  11]\n",
      " [ 12  13  14  15  16  17]\n",
      " [ 18  19  20  21  22  23]]\n",
      "int32\n",
      "4\n",
      "96\n"
     ]
    }
   ],
   "source": [
    "# 2维数组\n",
    "b = np.arange(24).reshape(4,6)\n",
    "print(b)\n",
    "print(b[0])\n",
    "print(b[1])\n",
    "print(len(b))\n",
    "print(b[0,0])\n",
    "print(b[0,2])\n",
    "print(b[1,0])\n",
    "print(b[1,2])\n",
    "b[0,0] = 100\n",
    "print(b)\n",
    "print(b.dtype) # 元素类型\n",
    "print(b.itemsize) # 元素字节数\n",
    "print(b.nbytes) # 数组整体占用字节数"
   ]
  },
  {
   "attachments": {},
   "cell_type": "markdown",
   "metadata": {},
   "source": [
    "## 切片数组"
   ]
  },
  {
   "cell_type": "code",
   "execution_count": 6,
   "metadata": {},
   "outputs": [
    {
     "name": "stdout",
     "output_type": "stream",
     "text": [
      "[ 0  1  2  3  4  5  6  7  8  9 10 11]\n",
      "[0 1 2 3 4]\n",
      "[ 5  6  7  8  9 10 11]\n",
      "[4 5 6]\n",
      "[ 0  2  4  6  8 10]\n",
      "[ 1  3  5  7  9 11]\n",
      "[11 10  9  8  7  6  5  4  3  2  1  0]\n",
      "[11  9  7  5  3  1]\n"
     ]
    }
   ],
   "source": [
    "import numpy as np\n",
    "\n",
    "# 1维数组\n",
    "a = np.arange(12)\n",
    "print(a)\n",
    "print(a[:5])\n",
    "print(a[5:])\n",
    "print(a[4:7])\n",
    "print(a[::2])\n",
    "print(a[1::2])#第三个参数是布距\n",
    "print(a[::-1])#从最后往前，每次减一\n",
    "print(a[::-2])#每次减二"
   ]
  },
  {
   "cell_type": "code",
   "execution_count": 7,
   "metadata": {},
   "outputs": [
    {
     "name": "stdout",
     "output_type": "stream",
     "text": [
      "[[ 0  1  2  3  4  5]\n",
      " [ 6  7  8  9 10 11]\n",
      " [12 13 14 15 16 17]\n",
      " [18 19 20 21 22 23]]\n",
      "[[ 0  1  2  3  4  5]\n",
      " [ 6  7  8  9 10 11]]\n",
      "[[0 1 2]\n",
      " [6 7 8]]\n",
      "[[ 0  2  4]\n",
      " [ 6  8 10]]\n",
      "[[ 5  4  3  2  1  0]\n",
      " [11 10  9  8  7  6]]\n",
      "[[23 22 21 20 19 18]\n",
      " [17 16 15 14 13 12]\n",
      " [11 10  9  8  7  6]\n",
      " [ 5  4  3  2  1  0]]\n",
      "[ 0  6 12 18]\n",
      "[0 1 2 3 4 5]\n",
      "[5 4 3 2 1 0]\n"
     ]
    }
   ],
   "source": [
    "# 2维数组\n",
    "b = np.arange(24).reshape(4,6)\n",
    "print(b)\n",
    "print(b[:2])\n",
    "print(b[:2, :3])\n",
    "print(b[:2,::2])\n",
    "print(b[:2,::-1])\n",
    "print(b[::-1,::-1])\n",
    "print(b[:, 0])\n",
    "print(b[0, :])\n",
    "print(b[0, ::-1])"
   ]
  },
  {
   "attachments": {},
   "cell_type": "markdown",
   "metadata": {},
   "source": [
    "## 数组连接"
   ]
  },
  {
   "cell_type": "code",
   "execution_count": 8,
   "metadata": {},
   "outputs": [
    {
     "name": "stdout",
     "output_type": "stream",
     "text": [
      "[0 1 2 3 4]\n",
      "[10 11 12 13 14]\n",
      "[ 0  1  2  3  4 10 11 12 13 14]\n",
      "[20 21 22 23 24]\n",
      "[ 0  1  2  3  4 10 11 12 13 14 20 21 22 23 24]\n"
     ]
    }
   ],
   "source": [
    "import numpy as np\n",
    "\n",
    "# 1维数组\n",
    "a = np.arange(5)\n",
    "b = np.arange(10, 15)\n",
    "print(a)\n",
    "print(b)\n",
    "# 数组连结\n",
    "print(np.concatenate([a, b]))\n",
    "\n",
    "c = np.arange(20, 25)\n",
    "print(c)\n",
    "print(np.concatenate([a, b, c]))"
   ]
  },
  {
   "cell_type": "code",
   "execution_count": 9,
   "metadata": {},
   "outputs": [
    {
     "name": "stdout",
     "output_type": "stream",
     "text": [
      "[[1 2 3]\n",
      " [7 8 9]]\n",
      "[[10 20 30]\n",
      " [70 80 90]]\n",
      "[[ 1  2  3]\n",
      " [ 7  8  9]\n",
      " [10 20 30]\n",
      " [70 80 90]]\n",
      "[[ 1  2  3 10 20 30]\n",
      " [ 7  8  9 70 80 90]]\n",
      "[[ 1  2  3]\n",
      " [ 7  8  9]\n",
      " [10 20 30]\n",
      " [70 80 90]]\n",
      "[[ 1  2  3 10 20 30]\n",
      " [ 7  8  9 70 80 90]]\n"
     ]
    }
   ],
   "source": [
    "# 2维数组\n",
    "a1 = np.array([\n",
    "    [1,2,3],\n",
    "    [7,8,9]\n",
    "])\n",
    "a2 = np.array([\n",
    "    [10,20,30],\n",
    "    [70,80,90]\n",
    "])\n",
    "print(a1)\n",
    "print(a2)\n",
    "print(np.concatenate([a1, a2])) # 竖向拼接\n",
    "print(np.concatenate([a1, a2], axis=1)) # 横向拼接\n",
    "\n",
    "# vstack\n",
    "print(np.vstack([a1, a2]))\n",
    "# hstack\n",
    "print(np.hstack([a1, a2]))"
   ]
  },
  {
   "attachments": {},
   "cell_type": "markdown",
   "metadata": {},
   "source": [
    "## 数组分割"
   ]
  },
  {
   "cell_type": "code",
   "execution_count": 1,
   "metadata": {},
   "outputs": [
    {
     "name": "stdout",
     "output_type": "stream",
     "text": [
      "[0 1 2 3 4 5 6 7]\n",
      "[array([0, 1, 2]), array([3, 4, 5, 6, 7])]\n",
      "[array([0, 1, 2]), array([3, 4, 5]), array([6, 7])]\n",
      "[[ 0  1  2  3]\n",
      " [ 4  5  6  7]\n",
      " [ 8  9 10 11]\n",
      " [12 13 14 15]]\n",
      "[[0 1 2 3]\n",
      " [4 5 6 7]]\n",
      "[[ 8  9 10 11]\n",
      " [12 13 14 15]]\n",
      "[[ 0  1]\n",
      " [ 4  5]\n",
      " [ 8  9]\n",
      " [12 13]]\n",
      "[[ 2  3]\n",
      " [ 6  7]\n",
      " [10 11]\n",
      " [14 15]]\n"
     ]
    }
   ],
   "source": [
    "import numpy as np\n",
    "\n",
    "# 1维数组\n",
    "a = np.arange(8)\n",
    "print(a)\n",
    "print(np.split(a, [3]))\n",
    "print(np.split(a, [3, 6]))\n",
    "\n",
    "# 2维数组\n",
    "b = np.arange(16).reshape(4,4)\n",
    "print(b)\n",
    "# 垂直方向，横向出刀\n",
    "upper, lower = np.vsplit(b, [2])\n",
    "print(upper)\n",
    "print(lower)\n",
    "# 水平方向，竖向出刀\n",
    "left, right = np.hsplit(b, [2])\n",
    "print(left)\n",
    "print(right)"
   ]
  },
  {
   "attachments": {},
   "cell_type": "markdown",
   "metadata": {},
   "source": [
    "## 计时模块"
   ]
  },
  {
   "cell_type": "code",
   "execution_count": 2,
   "metadata": {},
   "outputs": [
    {
     "name": "stdout",
     "output_type": "stream",
     "text": [
      "0.23718519999965793\n",
      "0.003923999999642547\n"
     ]
    }
   ],
   "source": [
    "#使用timeit估算代码的运行时间\n",
    "import numpy as np\n",
    "import timeit\n",
    "\n",
    "a = np.random.rand(1000)\n",
    "\n",
    "def f1():\n",
    "    b = np.empty(len(a))\n",
    "    for i in range(len(a)):\n",
    "        b[i] = 1/a[i]\n",
    "    return b\n",
    "\n",
    "def f2():\n",
    "    b = 1/a\n",
    "    return b\n",
    "\n",
    "print(timeit.timeit(stmt=f1,number=1000))#number是执行多少次\n",
    "print(timeit.timeit(stmt=f2,number=1000))"
   ]
  },
  {
   "attachments": {},
   "cell_type": "markdown",
   "metadata": {},
   "source": [
    "## 通用函数"
   ]
  },
  {
   "cell_type": "code",
   "execution_count": 4,
   "metadata": {},
   "outputs": [
    {
     "name": "stdout",
     "output_type": "stream",
     "text": [
      "[0 1 2 3 4 5 6 7 8 9]\n",
      "[ 5  6  7  8  9 10 11 12 13 14]\n",
      "[-5 -4 -3 -2 -1  0  1  2  3  4]\n",
      "[ 0  5 10 15 20 25 30 35 40 45]\n",
      "[ 0  1  4  9 16 25 36 49 64 81]\n",
      "[0.  0.5 1.  1.5 2.  2.5 3.  3.5 4.  4.5]\n",
      "[ 0 -1 -2 -3 -4 -5 -6 -7 -8 -9]\n",
      "[0 1 0 1 0 1 0 1 0 1]\n",
      "--------------------------------------------\n",
      "[ 5  6  7  8  9 10 11 12 13 14]\n",
      "[-5 -4 -3 -2 -1  0  1  2  3  4]\n",
      "[ 0  5 10 15 20 25 30 35 40 45]\n",
      "[ 0  1  4  9 16 25 36 49 64 81]\n",
      "[0.  0.5 1.  1.5 2.  2.5 3.  3.5 4.  4.5]\n",
      "[ 0 -1 -2 -3 -4 -5 -6 -7 -8 -9]\n",
      "[0 1 0 1 0 1 0 1 0 1]\n"
     ]
    }
   ],
   "source": [
    "import numpy as np\n",
    "\n",
    "a = np.arange(10)\n",
    "\n",
    "print(a)\n",
    "print(a+5)\n",
    "print(a-5)\n",
    "print(a*5)\n",
    "print(a**2)\n",
    "print(a/2)\n",
    "print(-a)\n",
    "print(a%2)\n",
    "print(\"--------------------------------------------\")\n",
    "print(np.add(a, 5))\n",
    "print(np.subtract(a, 5))\n",
    "print(np.multiply(a, 5))\n",
    "print(np.power(a, 2))\n",
    "print(np.divide(a, 2))\n",
    "print(np.negative(a))\n",
    "print(np.mod(a, 2))"
   ]
  },
  {
   "attachments": {},
   "cell_type": "markdown",
   "metadata": {},
   "source": [
    "## 数组绝对值"
   ]
  },
  {
   "cell_type": "code",
   "execution_count": 5,
   "metadata": {},
   "outputs": [
    {
     "name": "stdout",
     "output_type": "stream",
     "text": [
      "[-5 -4 -3 -2 -1  0  1  2  3  4]\n",
      "[5 4 3 2 1 0 1 2 3 4]\n",
      "[5 4 3 2 1 0 1 2 3 4]\n"
     ]
    }
   ],
   "source": [
    "import numpy as np\n",
    "\n",
    "a = np.arange(10) - 5\n",
    "print(a)\n",
    "\n",
    "def f1():\n",
    "    return abs(a)\n",
    "def f2():\n",
    "    return np.abs(a)\n",
    "\n",
    "# Python函数\n",
    "print(f1())\n",
    "\n",
    "# numpy函数\n",
    "print(f2())"
   ]
  },
  {
   "attachments": {},
   "cell_type": "markdown",
   "metadata": {},
   "source": [
    "## 三角函数"
   ]
  },
  {
   "cell_type": "code",
   "execution_count": 7,
   "metadata": {},
   "outputs": [
    {
     "name": "stdout",
     "output_type": "stream",
     "text": [
      "----- sin -----\n",
      "0.49999999999999994\n",
      "0.5\n",
      "----- cos -----\n",
      "0.5000000000000001\n",
      "0.5\n",
      "----- tan -----\n",
      "0.9999999999999999\n",
      "1.0\n"
     ]
    }
   ],
   "source": [
    "import numpy as np\n",
    "\n",
    "print(\"----- sin -----\")\n",
    "val = np.sin(np.pi / 6)\n",
    "print(val)\n",
    "print(np.round(val, 1))\n",
    "\n",
    "print(\"----- cos -----\")\n",
    "val = np.cos(np.pi / 3)\n",
    "print(val)\n",
    "print(np.round(val, 1))\n",
    "\n",
    "print(\"----- tan -----\")\n",
    "val = np.tan(np.pi / 4)\n",
    "print(val)\n",
    "print(np.round(val, 1))\n",
    "#np.round(数据, decimal=保留的小数位数) 原则：对于浮点型数据，四舍六入，正好一半就搞到偶数。"
   ]
  },
  {
   "attachments": {},
   "cell_type": "markdown",
   "metadata": {},
   "source": [
    "## 指数函数"
   ]
  },
  {
   "cell_type": "code",
   "execution_count": 8,
   "metadata": {},
   "outputs": [
    {
     "name": "stdout",
     "output_type": "stream",
     "text": [
      "2.718281828459045\n",
      "2.718281828459045\n",
      "[  2.71828183   7.3890561   20.08553692  54.59815003 148.4131591 ]\n",
      "2.0\n",
      "[ 2.  4.  8. 16. 32.]\n",
      "81\n",
      "[  3   9  27  81 243]\n"
     ]
    }
   ],
   "source": [
    "#exp: e的指数 -> e^n\n",
    "#exp2: 2的指数 -> 2^n\n",
    "#power: 任意数指数 -> m^n\n",
    "import numpy as np\n",
    "\n",
    "n = [1, 2, 3, 4, 5]\n",
    "\n",
    "val = np.e\n",
    "print(val)\n",
    "\n",
    "val = np.exp(1)\n",
    "print(val)\n",
    "\n",
    "val = np.exp(n)\n",
    "print(val)\n",
    "\n",
    "val = np.exp2(1)\n",
    "print(val)\n",
    "\n",
    "val = np.exp2(n)\n",
    "print(val)\n",
    "\n",
    "val = np.power(3, 4)\n",
    "print(val)\n",
    "\n",
    "val = np.power(3, n)\n",
    "print(val)"
   ]
  },
  {
   "attachments": {},
   "cell_type": "markdown",
   "metadata": {},
   "source": [
    "## 对数函数"
   ]
  },
  {
   "cell_type": "code",
   "execution_count": 4,
   "metadata": {},
   "outputs": [
    {
     "name": "stdout",
     "output_type": "stream",
     "text": [
      "0.0\n",
      "[0.         0.69314718 1.09861229 1.38629436 1.60943791]\n",
      "4.0\n",
      "[0. 1. 2. 3. 5. 7.]\n",
      "2.0\n",
      "[0. 1. 2. 3. 4.]\n"
     ]
    }
   ],
   "source": [
    "import numpy as np\n",
    "\n",
    "n = [1, 2, 3, 4, 5]\n",
    "\n",
    "# e^0=1\n",
    "val = np.log(1)\n",
    "print(val)\n",
    "\n",
    "val = np.log(n)\n",
    "print(val)\n",
    "\n",
    "# 2^4=16\n",
    "val = np.log2(16)\n",
    "print(val)\n",
    "\n",
    "n = [1, 2, 4, 8, 32, 128]\n",
    "val = np.log2(n)\n",
    "print(val)\n",
    "\n",
    "# 10^2=100\n",
    "val = np.log10(100)\n",
    "print(val)\n",
    "\n",
    "n = [1, 10, 100, 1000, 10000]\n",
    "val = np.log10(n)\n",
    "print(val)"
   ]
  },
  {
   "attachments": {},
   "cell_type": "markdown",
   "metadata": {},
   "source": [
    "## 函数输出 out"
   ]
  },
  {
   "cell_type": "code",
   "execution_count": 5,
   "metadata": {},
   "outputs": [
    {
     "name": "stdout",
     "output_type": "stream",
     "text": [
      "[ 0. 10. 20. 30. 40.]\n",
      "[ 1.  2.  4.  8. 16.]\n",
      "[100 101 102 103 104]\n",
      "[100.   0. 101.   0. 102.   0. 103.   0. 104.   0.]\n"
     ]
    }
   ],
   "source": [
    "import numpy as np\n",
    "\n",
    "a = np.arange(5)\n",
    "b = np.empty(5)\n",
    "\n",
    "np.multiply(a, 10, out=b)\n",
    "print(b)\n",
    "\n",
    "np.power(2, a, out=b)\n",
    "print(b)\n",
    "\n",
    "b = np.zeros(10)\n",
    "np.add(a, 100, out=b[::2])\n",
    "print(np.add(a, 100))\n",
    "print(b)"
   ]
  },
  {
   "attachments": {},
   "cell_type": "markdown",
   "metadata": {},
   "source": [
    "## 积累函数"
   ]
  },
  {
   "cell_type": "code",
   "execution_count": 6,
   "metadata": {},
   "outputs": [
    {
     "name": "stdout",
     "output_type": "stream",
     "text": [
      "[1 2 3 4 5]\n",
      "15\n",
      "120\n",
      "[ 1  3  6 10 15]\n",
      "[  1   2   6  24 120]\n"
     ]
    }
   ],
   "source": [
    "import numpy as np\n",
    "\n",
    "a = np.arange(1, 6)\n",
    "print(a)\n",
    "\n",
    "b = np.add.reduce(a)\n",
    "print(b)\n",
    "\n",
    "c = np.multiply.reduce(a)\n",
    "print(c)\n",
    "\n",
    "b = np.add.accumulate(a)\n",
    "print(b)\n",
    "\n",
    "c = np.multiply.accumulate(a)\n",
    "print(c)"
   ]
  },
  {
   "attachments": {},
   "cell_type": "markdown",
   "metadata": {},
   "source": [
    "## 通用函数"
   ]
  },
  {
   "cell_type": "code",
   "execution_count": 7,
   "metadata": {},
   "outputs": [
    {
     "name": "stdout",
     "output_type": "stream",
     "text": [
      "53\n",
      "21\n",
      "6\n",
      "[ True  True  True  True  True False False]\n",
      "True\n",
      "False\n"
     ]
    }
   ],
   "source": [
    "import numpy as np\n",
    "\n",
    "X = np.array([1,2,3,5,8,13,21])\n",
    "\n",
    "print(np.sum(X))\n",
    "print(np.max(X))\n",
    "print(np.argmax(X))\n",
    "\n",
    "print(X<10)\n",
    "print(np.any(X<10))\n",
    "print(np.all(X<10))"
   ]
  },
  {
   "attachments": {},
   "cell_type": "markdown",
   "metadata": {},
   "source": [
    "## 实战-预测美国总统的身高"
   ]
  },
  {
   "cell_type": "code",
   "execution_count": 8,
   "metadata": {},
   "outputs": [
    {
     "name": "stdout",
     "output_type": "stream",
     "text": [
      "[189 170 189 163 183 171 185 168 173 183 173 173 175 178 183 193 178 173\n",
      " 174 183 183 168 170 178 182 180 183 178 182 188 175 179 183 193 182 183\n",
      " 177 185 188 188 182 185 190]\n",
      "179.97674418604652\n",
      "163\n",
      "193\n",
      "7.023178807524852\n",
      "174.5\n",
      "182.0\n",
      "182.0\n",
      "184.0\n"
     ]
    },
    {
     "data": {
      "image/png": "[encoded data removed]",
      "text/plain": [
       "<Figure size 640x480 with 1 Axes>"
      ]
     },
     "metadata": {},
     "output_type": "display_data"
    }
   ],
   "source": [
    "import numpy as np\n",
    "import pandas as pd\n",
    "import matplotlib.pyplot as plt\n",
    "\n",
    "data = pd.read_csv('./testFile/numpy/president_heights.csv')\n",
    "\n",
    "heights = np.array(data['height(cm)'])\n",
    "print(heights)\n",
    "print(heights.mean())\n",
    "print(heights.min())\n",
    "print(heights.max())\n",
    "print(heights.std())\n",
    "\n",
    "print(np.percentile(heights, 25)) # 25%分位值\n",
    "print(np.percentile(heights, 50)) # 50%分位值\n",
    "print(np.median(heights))         # 中位数\n",
    "print(np.percentile(heights, 75)) # 75%分位值\n",
    "\n",
    "plt.hist(heights)\n",
    "plt.title(\"Height of US Presidents\")\n",
    "plt.xlabel(\"height(cm)\")\n",
    "plt.ylabel(\"number\")\n",
    "plt.show()"
   ]
  }
 ],
 "metadata": {
  "kernelspec": {
   "display_name": "Python 3",
   "language": "python",
   "name": "python3"
  },
  "language_info": {
   "codemirror_mode": {
    "name": "ipython",
    "version": 3
   },
   "file_extension": ".py",
   "mimetype": "text/x-python",
   "name": "python",
   "nbconvert_exporter": "python",
   "pygments_lexer": "ipython3",
   "version": "3.11.3"
  },
  "orig_nbformat": 4
 },
 "nbformat": 4,
 "nbformat_minor": 2
}
