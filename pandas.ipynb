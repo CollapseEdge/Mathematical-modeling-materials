{
 "cells": [
  {
   "cell_type": "code",
   "execution_count": 3,
   "metadata": {},
   "outputs": [
    {
     "name": "stdout",
     "output_type": "stream",
     "text": [
      "0     语文\n",
      "1     数学\n",
      "2     英语\n",
      "3    计算机\n",
      "dtype: object\n"
     ]
    }
   ],
   "source": [
    "#题目一：列表转Series\n",
    "import pandas as pd\n",
    "courses = [\"语文\",\"数学\",\"英语\",\"计算机\"]\n",
    "data = pd.Series(data=courses)\n",
    "\n",
    "print(data)"
   ]
  },
  {
   "cell_type": "code",
   "execution_count": 2,
   "metadata": {},
   "outputs": [
    {
     "name": "stdout",
     "output_type": "stream",
     "text": [
      "语文      80\n",
      "数学      90\n",
      "英语      88\n",
      "计算机    100\n",
      "dtype: int64\n"
     ]
    }
   ],
   "source": [
    "#题目二：字典转Series\n",
    "import pandas as pd\n",
    "grades = {\"语文\":80,\"数学\":90,\"英语\":88,\"计算机\":100}\n",
    "data = pd.Series(data=grades)\n",
    "\n",
    "print(data)"
   ]
  },
  {
   "cell_type": "code",
   "execution_count": 6,
   "metadata": {},
   "outputs": [
    {
     "name": "stdout",
     "output_type": "stream",
     "text": [
      "[80, 90, 88, 100]\n"
     ]
    }
   ],
   "source": [
    "#第三题：Series转成List\n",
    "import pandas as pd\n",
    "grades = {\"语文\":80,\"数学\":90,\"英语\":88,\"计算机\":100}\n",
    "data = pd.Series(data=grades)\n",
    "\n",
    "numbers = data.tolist()\n",
    "print(numbers)"
   ]
  },
  {
   "cell_type": "code",
   "execution_count": 8,
   "metadata": {},
   "outputs": [
    {
     "name": "stdout",
     "output_type": "stream",
     "text": [
      "     grades\n",
      "语文       80\n",
      "数学       90\n",
      "英语       88\n",
      "计算机     100\n"
     ]
    }
   ],
   "source": [
    "#第四题：将Series转成DataFrame\n",
    "import pandas as pd\n",
    "grades = {\"语文\":80,\"数学\":90,\"英语\":88,\"计算机\":100}\n",
    "data = pd.Series(data=grades)\n",
    "\n",
    "df = pd.DataFrame(data=data, columns=['grades'])\n",
    "print(df)"
   ]
  },
  {
   "cell_type": "code",
   "execution_count": 12,
   "metadata": {},
   "outputs": [
    {
     "name": "stdout",
     "output_type": "stream",
     "text": [
      "101    10.0\n",
      "102    20.0\n",
      "103    30.0\n",
      "104    40.0\n",
      "105    50.0\n",
      "106    60.0\n",
      "107    70.0\n",
      "108    80.0\n",
      "109    90.0\n",
      "dtype: float64\n"
     ]
    }
   ],
   "source": [
    "#第五题：借助numpy创建Series\n",
    "import numpy as np\n",
    "import pandas as pd\n",
    "\n",
    "s = pd.Series(\n",
    "    np.arange(10,100,10), #数值：10~90，间隔10\n",
    "    index = np.arange(101,110), #引索：101~109，间隔1\n",
    "    dtype='float' #类型：float64\n",
    ")\n",
    "print(s)"
   ]
  },
  {
   "cell_type": "code",
   "execution_count": 16,
   "metadata": {},
   "outputs": [
    {
     "name": "stdout",
     "output_type": "stream",
     "text": [
      "a    001\n",
      "b    002\n",
      "c    003\n",
      "d    004\n",
      "dtype: object\n",
      "=========\n",
      "a    1\n",
      "b    2\n",
      "c    3\n",
      "d    4\n",
      "dtype: int64\n"
     ]
    }
   ],
   "source": [
    "#第六题：转换Series的数据类型\n",
    "import pandas as pd\n",
    "s = pd.Series(\n",
    "    data=['001','002','003','004'],\n",
    "    index=list(\"abcd\")\n",
    ")\n",
    "print(s)#转换前\n",
    "print('=========')\n",
    "s = s.astype(int)#方法一\n",
    "s = s.map(int)#方法二   效果一样两种方法\n",
    "print(s)#转换后"
   ]
  },
  {
   "cell_type": "code",
   "execution_count": 25,
   "metadata": {},
   "outputs": [
    {
     "ename": "AttributeError",
     "evalue": "'Series' object has no attribute 'append'",
     "output_type": "error",
     "traceback": [
      "\u001b[1;31m---------------------------------------------------------------------------\u001b[0m",
      "\u001b[1;31mAttributeError\u001b[0m                            Traceback (most recent call last)",
      "Cell \u001b[1;32mIn[25], line 6\u001b[0m\n\u001b[0;32m      3\u001b[0m grades \u001b[39m=\u001b[39m {\u001b[39m\"\u001b[39m\u001b[39m语文\u001b[39m\u001b[39m\"\u001b[39m:\u001b[39m80\u001b[39m,\u001b[39m\"\u001b[39m\u001b[39m数学\u001b[39m\u001b[39m\"\u001b[39m:\u001b[39m90\u001b[39m,\u001b[39m\"\u001b[39m\u001b[39m英语\u001b[39m\u001b[39m\"\u001b[39m:\u001b[39m88\u001b[39m,\u001b[39m\"\u001b[39m\u001b[39m计算机\u001b[39m\u001b[39m\"\u001b[39m:\u001b[39m100\u001b[39m}\n\u001b[0;32m      4\u001b[0m data \u001b[39m=\u001b[39m pd\u001b[39m.\u001b[39mSeries(data\u001b[39m=\u001b[39mgrades)\n\u001b[1;32m----> 6\u001b[0m data \u001b[39m=\u001b[39m data\u001b[39m.\u001b[39;49mappend(pd\u001b[39m.\u001b[39mSeries({\n\u001b[0;32m      7\u001b[0m     \u001b[39m\"\u001b[39m\u001b[39m物理\u001b[39m\u001b[39m\"\u001b[39m: \u001b[39m88\u001b[39m,\n\u001b[0;32m      8\u001b[0m     \u001b[39m\"\u001b[39m\u001b[39m化学\u001b[39m\u001b[39m\"\u001b[39m: \u001b[39m95\u001b[39m\n\u001b[0;32m      9\u001b[0m }))\n\u001b[0;32m     10\u001b[0m \u001b[39mprint\u001b[39m(data)\n",
      "File \u001b[1;32mc:\\Python311\\Lib\\site-packages\\pandas\\core\\generic.py:5989\u001b[0m, in \u001b[0;36mNDFrame.__getattr__\u001b[1;34m(self, name)\u001b[0m\n\u001b[0;32m   5982\u001b[0m \u001b[39mif\u001b[39;00m (\n\u001b[0;32m   5983\u001b[0m     name \u001b[39mnot\u001b[39;00m \u001b[39min\u001b[39;00m \u001b[39mself\u001b[39m\u001b[39m.\u001b[39m_internal_names_set\n\u001b[0;32m   5984\u001b[0m     \u001b[39mand\u001b[39;00m name \u001b[39mnot\u001b[39;00m \u001b[39min\u001b[39;00m \u001b[39mself\u001b[39m\u001b[39m.\u001b[39m_metadata\n\u001b[0;32m   5985\u001b[0m     \u001b[39mand\u001b[39;00m name \u001b[39mnot\u001b[39;00m \u001b[39min\u001b[39;00m \u001b[39mself\u001b[39m\u001b[39m.\u001b[39m_accessors\n\u001b[0;32m   5986\u001b[0m     \u001b[39mand\u001b[39;00m \u001b[39mself\u001b[39m\u001b[39m.\u001b[39m_info_axis\u001b[39m.\u001b[39m_can_hold_identifiers_and_holds_name(name)\n\u001b[0;32m   5987\u001b[0m ):\n\u001b[0;32m   5988\u001b[0m     \u001b[39mreturn\u001b[39;00m \u001b[39mself\u001b[39m[name]\n\u001b[1;32m-> 5989\u001b[0m \u001b[39mreturn\u001b[39;00m \u001b[39mobject\u001b[39;49m\u001b[39m.\u001b[39;49m\u001b[39m__getattribute__\u001b[39;49m(\u001b[39mself\u001b[39;49m, name)\n",
      "\u001b[1;31mAttributeError\u001b[0m: 'Series' object has no attribute 'append'"
     ]
    }
   ],
   "source": [
    "#第七题：给Series添加新的元素\n",
    "import pandas as pd\n",
    "grades = {\"语文\":80,\"数学\":90,\"英语\":88,\"计算机\":100}\n",
    "data = pd.Series(data=grades)\n",
    "\n",
    "data = data.append(pd.Series({\n",
    "    \"物理\": 88,\n",
    "    \"化学\": 95\n",
    "}))\n",
    "print(data)"
   ]
  },
  {
   "cell_type": "code",
   "execution_count": null,
   "metadata": {},
   "outputs": [],
   "source": [
    "#第八题：用reset index将Series转换成dataframe"
   ]
  },
  {
   "cell_type": "code",
   "execution_count": 19,
   "metadata": {},
   "outputs": [],
   "source": [
    "#第九题：使用字典创建DataFrame"
   ]
  },
  {
   "cell_type": "code",
   "execution_count": 20,
   "metadata": {},
   "outputs": [],
   "source": [
    "#第十题：给DataFrame设置引列"
   ]
  },
  {
   "cell_type": "code",
   "execution_count": 21,
   "metadata": {},
   "outputs": [],
   "source": [
    "#第十一题：生成一个月份所有日期"
   ]
  }
 ],
 "metadata": {
  "kernelspec": {
   "display_name": "machinelearning",
   "language": "python",
   "name": "python3"
  },
  "language_info": {
   "codemirror_mode": {
    "name": "ipython",
    "version": 3
   },
   "file_extension": ".py",
   "mimetype": "text/x-python",
   "name": "python",
   "nbconvert_exporter": "python",
   "pygments_lexer": "ipython3",
   "version": "3.11.3"
  },
  "orig_nbformat": 4
 },
 "nbformat": 4,
 "nbformat_minor": 2
}
