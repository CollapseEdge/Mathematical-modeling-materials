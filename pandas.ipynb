{
 "cells": [
  {
   "cell_type": "code",
   "execution_count": 3,
   "metadata": {},
   "outputs": [
    {
     "name": "stdout",
     "output_type": "stream",
     "text": [
      "0     语文\n",
      "1     数学\n",
      "2     英语\n",
      "3    计算机\n",
      "dtype: object\n"
     ]
    }
   ],
   "source": [
    "#题目一：列表转Series\n",
    "import pandas as pd\n",
    "courses = [\"语文\",\"数学\",\"英语\",\"计算机\"]\n",
    "data = pd.Series(data=courses)\n",
    "\n",
    "print(data)"
   ]
  },
  {
   "cell_type": "code",
   "execution_count": 2,
   "metadata": {},
   "outputs": [
    {
     "name": "stdout",
     "output_type": "stream",
     "text": [
      "语文      80\n",
      "数学      90\n",
      "英语      88\n",
      "计算机    100\n",
      "dtype: int64\n"
     ]
    }
   ],
   "source": [
    "#题目二：字典转Series\n",
    "import pandas as pd\n",
    "grades = {\"语文\":80,\"数学\":90,\"英语\":88,\"计算机\":100}\n",
    "data = pd.Series(data=grades)\n",
    "\n",
    "print(data)"
   ]
  },
  {
   "cell_type": "code",
   "execution_count": 6,
   "metadata": {},
   "outputs": [
    {
     "name": "stdout",
     "output_type": "stream",
     "text": [
      "[80, 90, 88, 100]\n"
     ]
    }
   ],
   "source": [
    "#第三题：Series转成List\n",
    "import pandas as pd\n",
    "grades = {\"语文\":80,\"数学\":90,\"英语\":88,\"计算机\":100}\n",
    "data = pd.Series(data=grades)\n",
    "\n",
    "numbers = data.tolist()\n",
    "print(numbers)"
   ]
  },
  {
   "cell_type": "code",
   "execution_count": 8,
   "metadata": {},
   "outputs": [
    {
     "name": "stdout",
     "output_type": "stream",
     "text": [
      "     grades\n",
      "语文       80\n",
      "数学       90\n",
      "英语       88\n",
      "计算机     100\n"
     ]
    }
   ],
   "source": [
    "#第四题：将Series转成DataFrame\n",
    "import pandas as pd\n",
    "grades = {\"语文\":80,\"数学\":90,\"英语\":88,\"计算机\":100}\n",
    "data = pd.Series(data=grades)\n",
    "\n",
    "df = pd.DataFrame(data=data, columns=['grades'])\n",
    "print(df)"
   ]
  },
  {
   "cell_type": "code",
   "execution_count": 12,
   "metadata": {},
   "outputs": [
    {
     "name": "stdout",
     "output_type": "stream",
     "text": [
      "101    10.0\n",
      "102    20.0\n",
      "103    30.0\n",
      "104    40.0\n",
      "105    50.0\n",
      "106    60.0\n",
      "107    70.0\n",
      "108    80.0\n",
      "109    90.0\n",
      "dtype: float64\n"
     ]
    }
   ],
   "source": [
    "#第五题：借助numpy创建Series\n",
    "import numpy as np\n",
    "import pandas as pd\n",
    "\n",
    "s = pd.Series(\n",
    "    np.arange(10,100,10), #数值：10~90，间隔10\n",
    "    index = np.arange(101,110), #引索：101~109，间隔1\n",
    "    dtype='float' #类型：float64\n",
    ")\n",
    "print(s)"
   ]
  },
  {
   "cell_type": "code",
   "execution_count": 16,
   "metadata": {},
   "outputs": [
    {
     "name": "stdout",
     "output_type": "stream",
     "text": [
      "a    001\n",
      "b    002\n",
      "c    003\n",
      "d    004\n",
      "dtype: object\n",
      "=========\n",
      "a    1\n",
      "b    2\n",
      "c    3\n",
      "d    4\n",
      "dtype: int64\n"
     ]
    }
   ],
   "source": [
    "#第六题：转换Series的数据类型\n",
    "import pandas as pd\n",
    "s = pd.Series(\n",
    "    data=['001','002','003','004'],\n",
    "    index=list(\"abcd\")\n",
    ")\n",
    "print(s)#转换前\n",
    "print('=========')\n",
    "s = s.astype(int)#方法一\n",
    "s = s.map(int)#方法二   效果一样两种方法\n",
    "print(s)#转换后"
   ]
  },
  {
   "cell_type": "code",
   "execution_count": 2,
   "metadata": {},
   "outputs": [
    {
     "name": "stdout",
     "output_type": "stream",
     "text": [
      "语文      80\n",
      "数学      90\n",
      "英语      88\n",
      "计算机    100\n",
      "物理      88\n",
      "化学      95\n",
      "dtype: int64\n"
     ]
    },
    {
     "name": "stderr",
     "output_type": "stream",
     "text": [
      "C:\\Users\\che\\AppData\\Local\\Temp\\ipykernel_3768\\3075731281.py:10: FutureWarning: The series.append method is deprecated and will be removed from pandas in a future version. Use pandas.concat instead.\n",
      "  data = data.append(var1)\n"
     ]
    }
   ],
   "source": [
    "#第七题：给Series添加新的元素\n",
    "import pandas as pd\n",
    "\n",
    "grades = {\"语文\":80,\"数学\":90,\"英语\":88,\"计算机\":100}\n",
    "data = pd.Series(data=grades)\n",
    "var1 = pd.Series({\n",
    "    \"物理\": 88,\n",
    "    \"化学\": 95\n",
    "})\n",
    "data = data.append(var1)\n",
    "print(data)\n"
   ]
  },
  {
   "cell_type": "code",
   "execution_count": null,
   "metadata": {},
   "outputs": [],
   "source": [
    "#第八题：用reset index将Series转换成dataframe"
   ]
  },
  {
   "cell_type": "code",
   "execution_count": 19,
   "metadata": {},
   "outputs": [],
   "source": [
    "#第九题：使用字典创建DataFrame"
   ]
  },
  {
   "cell_type": "code",
   "execution_count": 20,
   "metadata": {},
   "outputs": [],
   "source": [
    "#第十题：给DataFrame设置引列"
   ]
  },
  {
   "cell_type": "code",
   "execution_count": 21,
   "metadata": {},
   "outputs": [],
   "source": [
    "#第十一题：生成一个月份所有日期"
   ]
  }
 ],
 "metadata": {
  "kernelspec": {
   "display_name": "machinelearning",
   "language": "python",
   "name": "python3"
  },
  "language_info": {
   "codemirror_mode": {
    "name": "ipython",
    "version": 3
   },
   "file_extension": ".py",
   "mimetype": "text/x-python",
   "name": "python",
   "nbconvert_exporter": "python",
   "pygments_lexer": "ipython3",
   "version": "3.11.3"
  },
  "orig_nbformat": 4
 },
 "nbformat": 4,
 "nbformat_minor": 2
}
